{
 "cells": [
  {
   "cell_type": "code",
   "execution_count": 201,
   "id": "0e8fd72c-0e9e-4b70-9e49-39c356c8d586",
   "metadata": {},
   "outputs": [],
   "source": [
    "import os\n",
    "os.environ[\"TOKENIZERS_PARALLELISM\"] = \"false\""
   ]
  },
  {
   "cell_type": "code",
   "execution_count": 202,
   "id": "d0fecb90-9bee-4a67-afcd-a7701e73187e",
   "metadata": {},
   "outputs": [],
   "source": [
    "# スクリプトからライブラリのインポート\n",
    "import sys\n",
    "sys.path.append('../scripts')\n",
    "\n",
    "from retrieve_paper_from_arxiv import Retrieve_Arxiv\n",
    "from classification_paper import Classification_Topic\n",
    "import pandas as pd\n",
    "from dotenv import load_dotenv\n",
    "\n",
    "load_dotenv()\n",
    "openai_api_key = os.getenv('OPENAI_API_KEY')"
   ]
  },
  {
   "cell_type": "code",
   "execution_count": 210,
   "id": "93be1f71-ae9b-4c01-995e-b718cac067a4",
   "metadata": {},
   "outputs": [
    {
     "name": "stdin",
     "output_type": "stream",
     "text": [
      "検索したい単語を入力してください: machine learning\n",
      "検索する論文の数を入力してください: 1000\n"
     ]
    }
   ],
   "source": [
    "# ユーザー依存の変数の宣言\n",
    "keyword = str(input(\"検索したい単語を入力してください:\")).replace(\" \", \"%20\")\n",
    "max_num = int(input(\"検索する論文の数を入力してください:\"))"
   ]
  },
  {
   "cell_type": "code",
   "execution_count": 211,
   "id": "b7321405-21e2-4d16-9954-9c4bfabbc549",
   "metadata": {},
   "outputs": [
    {
     "name": "stdout",
     "output_type": "stream",
     "text": [
      "「machine learning」について検索をかけ、その内容を1000件まとめます\n"
     ]
    }
   ],
   "source": [
    "print(\"「{keyword}」について検索をかけ、その内容を{max_num}件まとめます\".format(keyword=keyword.replace(\"%20\", \" \"),max_num=max_num))"
   ]
  },
  {
   "cell_type": "code",
   "execution_count": 205,
   "id": "101950ea-3398-425b-a6bf-4492ef685c74",
   "metadata": {},
   "outputs": [
    {
     "name": "stdin",
     "output_type": "stream",
     "text": [
      "論文に適用するクラスタの最大数を入力してください (Preferred more than 30): 50\n"
     ]
    }
   ],
   "source": [
    "# ここで指定した数がトピックの分類数になるとは限りません\n",
    "num_topics = int(input(\"論文に適用するクラスタの最大数を入力してください (Preferred more than 30):\"))"
   ]
  },
  {
   "cell_type": "code",
   "execution_count": 206,
   "id": "db3b1f5c-841b-4513-87ae-80d369b2ca87",
   "metadata": {},
   "outputs": [],
   "source": [
    "# インスタンスの定義\n",
    "file_name = \"sample.csv\"\n",
    "re = Retrieve_Arxiv()\n",
    "cl = Classification_Topic(saved_file_name=file_name,\n",
    "                          openai_api_key=openai_api_key)"
   ]
  },
  {
   "cell_type": "code",
   "execution_count": 207,
   "id": "5125e6b7-62e9-4f4a-b7a0-65227dc066b3",
   "metadata": {},
   "outputs": [],
   "source": [
    "# キーワードに一致する論文をmax_num分だけ取得する\n",
    "# retrieved_paper.csvが作成されればOK\n",
    "re.retrieve(keyword=keyword,max_num=max_num)"
   ]
  },
  {
   "cell_type": "code",
   "execution_count": 213,
   "id": "6774e122-8d84-47e4-8985-a0402c25a14e",
   "metadata": {
    "scrolled": true
   },
   "outputs": [
    {
     "name": "stdout",
     "output_type": "stream",
     "text": [
      "33個のトピックに分類されました。\n"
     ]
    }
   ],
   "source": [
    "# 論文をトピック分類する\n",
    "cl.classification_papers_csv(num_topics=num_topics)\n",
    "print(\"{K}個のクラスタに分類されました。\".format(K=len(cl.df_info[\"Name\"].unique())))"
   ]
  },
  {
   "cell_type": "code",
   "execution_count": 214,
   "id": "76501885-7280-4eee-a6bb-e89741ac4e41",
   "metadata": {},
   "outputs": [
    {
     "name": "stdout",
     "output_type": "stream",
     "text": [
      "['0_Quantum Spin Exchange in Kagome' '1_Autonomous LLMs in Cybersecurity'\n",
      " '2_Distribution-Free Dynamics Learning'\n",
      " '3_High-velocity stellar motion modeling'\n",
      " '4_Complex Fluid-Solid Interactions' '5_Exploring GenAI Impact on VR'\n",
      " '6_Enhanced Conversational Search System'\n",
      " '7_Particle Physics Data Analysis'\n",
      " '8_Quantum Gravity Experiments Analysis'\n",
      " '9_Nonlinear Wave Propagation in Complex Media'\n",
      " '10_Exoplanet Formation and Magnetic Interactions'\n",
      " '11_Protein Side-Chain Torsional Prediction'\n",
      " '12_Quantum Proof Search & Parity-Encoding'\n",
      " '13_Innovative Mathematical Reasoning Tools'\n",
      " '14_Mobile Health App Explanation Analysis'\n",
      " '15_Hair Modeling with Gaussian Representation'\n",
      " '16_Intelligent Graph Analysis Environment'\n",
      " '17_Multi-modal Anime Illustration Recommendation Fusion'\n",
      " '18_Advancements in Nuclear Physics'\n",
      " '19_Human-Robot Shared Autonomy Studies'\n",
      " '20_Renormalization Scheme Restoring Chiral Symmetry'\n",
      " '21_Peer Acknowledgement Impact on Learner Engagement'\n",
      " '22_Resoformer for EV Vibration Forecasting'\n",
      " '23_Dissipative NEGF Theory Extension'\n",
      " '24_Enhancing Empathetic Multimodal Dialogue'\n",
      " '25_Bosonic Impurities in Energy Study'\n",
      " '26_Motion Guidance in XR Technology'\n",
      " \"27_LLMs' Social Network Behavior Study\"\n",
      " '28_Cell Signaling Pulsatile Dynamics'\n",
      " '29_Molecular Solid Energy Approximations'\n",
      " '30_AutoAct automatic agent learning framework'\n",
      " '31_Efficient Wearable ECG Arrhythmia Analysis'\n",
      " '32_Non-Periodic ALPs in Dark Matter']\n"
     ]
    }
   ],
   "source": [
    "# キーワード/トピック/papers_data.csvでCSVをトピック別に保存する\n",
    "cl.make_and_save_topic_csv(keyword)\n",
    "print(cl.df_info[\"Name\"].unique())"
   ]
  },
  {
   "cell_type": "code",
   "execution_count": null,
   "id": "abac0eb9-3ad0-4ab4-a0d4-396ee54fa594",
   "metadata": {},
   "outputs": [],
   "source": []
  }
 ],
 "metadata": {
  "kernelspec": {
   "display_name": "Python 3 (ipykernel)",
   "language": "python",
   "name": "python3"
  },
  "language_info": {
   "codemirror_mode": {
    "name": "ipython",
    "version": 3
   },
   "file_extension": ".py",
   "mimetype": "text/x-python",
   "name": "python",
   "nbconvert_exporter": "python",
   "pygments_lexer": "ipython3",
   "version": "3.8.18"
  }
 },
 "nbformat": 4,
 "nbformat_minor": 5
}
