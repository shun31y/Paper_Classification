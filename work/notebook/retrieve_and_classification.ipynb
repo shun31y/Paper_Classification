{
 "cells": [
  {
   "cell_type": "code",
   "execution_count": 1,
   "id": "0e8fd72c-0e9e-4b70-9e49-39c356c8d586",
   "metadata": {},
   "outputs": [],
   "source": [
    "import os\n",
    "os.environ[\"TOKENIZERS_PARALLELISM\"] = \"false\""
   ]
  },
  {
   "cell_type": "code",
   "execution_count": 3,
   "id": "d0fecb90-9bee-4a67-afcd-a7701e73187e",
   "metadata": {},
   "outputs": [],
   "source": [
    "# スクリプトからライブラリのインポート\n",
    "import sys\n",
    "sys.path.append('../scripts')\n",
    "\n",
    "from retrieve_paper_from_arxiv import Retrieve_Arxiv\n",
    "from classification_paper import Classification_Topic\n",
    "import pandas as pd\n",
    "from dotenv import load_dotenv\n",
    "\n",
    "load_dotenv()\n",
    "openai_api_key = os.getenv('OPENAI_API_KEY')"
   ]
  },
  {
   "cell_type": "code",
   "execution_count": 4,
   "id": "93be1f71-ae9b-4c01-995e-b718cac067a4",
   "metadata": {},
   "outputs": [
    {
     "name": "stdin",
     "output_type": "stream",
     "text": [
      "検索したい単語を入力してください: ViT\n",
      "検索する論文の数を入力してください: 1000\n"
     ]
    }
   ],
   "source": [
    "# ユーザー依存の変数の宣言\n",
    "keyword = str(input(\"検索したい単語を入力してください:\"))\n",
    "max_num = int(input(\"検索する論文の数を入力してください:\"))"
   ]
  },
  {
   "cell_type": "code",
   "execution_count": 5,
   "id": "b7321405-21e2-4d16-9954-9c4bfabbc549",
   "metadata": {},
   "outputs": [
    {
     "name": "stdout",
     "output_type": "stream",
     "text": [
      "「ViT」について検索をかけ、その内容を1000件まとめます\n"
     ]
    }
   ],
   "source": [
    "print(\"「{keyword}」について検索をかけ、その内容を{max_num}件まとめます\".format(keyword=keyword,max_num=max_num))"
   ]
  },
  {
   "cell_type": "code",
   "execution_count": 5,
   "id": "101950ea-3398-425b-a6bf-4492ef685c74",
   "metadata": {},
   "outputs": [
    {
     "name": "stdin",
     "output_type": "stream",
     "text": [
      "論文に適用するクラスタの数を入力してください: 30\n"
     ]
    }
   ],
   "source": [
    "# ここで指定した数がトピックの分類数になるとは限りません\n",
    "num_topics = int(input(\"論文に適用するクラスタの数を入力してください:\"))"
   ]
  },
  {
   "cell_type": "code",
   "execution_count": 6,
   "id": "db3b1f5c-841b-4513-87ae-80d369b2ca87",
   "metadata": {},
   "outputs": [],
   "source": [
    "# インスタンスの定義\n",
    "file_name = \"sample.csv\"\n",
    "re = Retrieve_Arxiv(saved_file_name=file_name)\n",
    "cl = Classification_Topic(saved_file_name=file_name,\n",
    "                          openai_api_key=openai_api_key)"
   ]
  },
  {
   "cell_type": "code",
   "execution_count": 16,
   "id": "5125e6b7-62e9-4f4a-b7a0-65227dc066b3",
   "metadata": {},
   "outputs": [],
   "source": [
    "# キーワードに一致する論文をmax_num分だけ取得する\n",
    "# retrieved_paper.csvが作成されればOK\n",
    "re.retrieve(keyword=keyword,max_num=max_num)"
   ]
  },
  {
   "cell_type": "code",
   "execution_count": 7,
   "id": "6774e122-8d84-47e4-8985-a0402c25a14e",
   "metadata": {},
   "outputs": [],
   "source": [
    "# 論文をトピック分類する\n",
    "cl.classification_papers_csv(num_topics=num_topics)"
   ]
  },
  {
   "cell_type": "code",
   "execution_count": 8,
   "id": "76501885-7280-4eee-a6bb-e89741ac4e41",
   "metadata": {},
   "outputs": [],
   "source": [
    "# キーワード/トピック/papers_data.csvでCSVをトピック別に保存する\n",
    "cl.make_and_save_topic_csv(keyword)"
   ]
  },
  {
   "cell_type": "code",
   "execution_count": null,
   "id": "abac0eb9-3ad0-4ab4-a0d4-396ee54fa594",
   "metadata": {},
   "outputs": [],
   "source": []
  }
 ],
 "metadata": {
  "kernelspec": {
   "display_name": "Python 3 (ipykernel)",
   "language": "python",
   "name": "python3"
  },
  "language_info": {
   "codemirror_mode": {
    "name": "ipython",
    "version": 3
   },
   "file_extension": ".py",
   "mimetype": "text/x-python",
   "name": "python",
   "nbconvert_exporter": "python",
   "pygments_lexer": "ipython3",
   "version": "3.8.18"
  }
 },
 "nbformat": 4,
 "nbformat_minor": 5
}
